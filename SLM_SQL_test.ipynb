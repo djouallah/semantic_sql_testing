{
 "cells": [
  {
   "cell_type": "code",
   "execution_count": 1,
   "id": "18dc5ecb",
   "metadata": {},
   "outputs": [],
   "source": [
    "test_semantic_model_url = 'https://raw.githubusercontent.com/djouallah/semantic_sql_testing/refs/heads/main/semantic_model.txt' \n",
    "questions_url           = 'https://raw.githubusercontent.com/djouallah/semantic_sql_testing/refs/heads/main/questions.json'\n",
    "SF = 1\n",
    "output_dir=\"/tmp/llm\""
   ]
  },
  {
   "cell_type": "code",
   "execution_count": 2,
   "id": "38ba2dd2",
   "metadata": {},
   "outputs": [],
   "source": [
    "import requests\n",
    "import json\n",
    "import duckdb\n",
    "import pathlib\n",
    "import time\n",
    "import pandas as pd\n",
    "import re\n",
    "from   openai import AzureOpenAI, OpenAIError\n",
    "import datetime\n",
    "import os\n",
    "import traceback\n",
    "import google.generativeai as genai\n"
   ]
  },
  {
   "cell_type": "markdown",
   "id": "613c1397",
   "metadata": {},
   "source": [
    "# Generate Data"
   ]
  },
  {
   "cell_type": "code",
   "execution_count": null,
   "id": "fe96295d",
   "metadata": {},
   "outputs": [],
   "source": [
    "if SF <1 :\n",
    " schema = f\"{str(SF).replace('.', '_')}\"\n",
    "else :\n",
    " schema = f'DS{SF:02d}'\n",
    "os.makedirs(output_dir, exist_ok=True)\n",
    "db_path = output_dir +\"/\"+ schema +\".duckdb\"\n",
    "if not pathlib.Path(db_path).exists():\n",
    "    con = duckdb.connect(db_path)\n",
    "    con.sql(\"SET memory_limit = '14GB' \")\n",
    "    con.sql(f\"CALL dsdgen(sf={SF})\")\n",
    "    con.close()\n",
    "con = duckdb.connect()\n",
    "con.sql(f\"\"\" attach '{db_path}' as ds(read_only) ; use ds \"\"\")\n",
    "timestamp = datetime.datetime.now().strftime(\"%Y%m%d_%H%M%S\")"
   ]
  },
  {
   "cell_type": "markdown",
   "id": "67577eb1",
   "metadata": {},
   "source": [
    "# Run Tests"
   ]
  },
  {
   "cell_type": "code",
   "execution_count": null,
   "id": "8ac862ba",
   "metadata": {},
   "outputs": [],
   "source": [
    "def get_ai_response(user_message, LLM, provider, api_key=None, azure_endpoint=None, azure_api_version=None):\n",
    "    system_prompt = \"\"\n",
    "    try:\n",
    "        github_response = requests.get(test_semantic_model_url)\n",
    "        github_response.raise_for_status()\n",
    "        system_prompt = github_response.text.strip()\n",
    "    except requests.RequestException as e:\n",
    "        print(f\"Error fetching system prompt from GitHub ({test_semantic_model_url}): {e}\")\n",
    "        return f\"Error fetching system prompt: {e}\"\n",
    "\n",
    "    generated_text = None\n",
    "    data = None\n",
    "\n",
    "    if provider == \"ollama\":\n",
    "        url = 'http://127.0.0.1:11434/api/chat'\n",
    "        headers = {'Content-Type': 'application/json'}\n",
    "        payload = {\n",
    "            'model': LLM,\n",
    "            'messages': [\n",
    "                {'role': 'system', 'content': system_prompt},\n",
    "                {'role': 'user', 'content': user_message}\n",
    "            ],\n",
    "            'stream': False\n",
    "        }\n",
    "        try:\n",
    "            response = requests.post(url, headers=headers, json=payload)\n",
    "            response.raise_for_status()\n",
    "            data = response.json()\n",
    "            generated_text = data.get('message', {}).get('content', '')\n",
    "            if generated_text:\n",
    "                generated_text = generated_text.replace(\"<think>\", \"\").replace(\"</think>\", \"\")\n",
    "        except requests.RequestException as e:\n",
    "            return f\"Error with Ollama API request: {e}\"\n",
    "        except (KeyError, IndexError, AttributeError) as e:\n",
    "            return f\"Unexpected response format from Ollama: {e}\\nFull response data: {data}\"\n",
    "\n",
    "    elif provider == \"azure_foundry\":\n",
    "        if not azure_endpoint or not azure_api_version or not api_key:\n",
    "            return \"Azure provider requires 'azure_endpoint', 'azure_api_version', and 'api_key' parameters.\"\n",
    "\n",
    "        try:\n",
    "            client = AzureOpenAI(\n",
    "                api_version=azure_api_version,\n",
    "                azure_endpoint=azure_endpoint,\n",
    "                api_key=api_key,\n",
    "            )\n",
    "\n",
    "            response = client.chat.completions.create(\n",
    "                messages=[\n",
    "                    {\"role\": \"system\", \"content\": system_prompt},\n",
    "                    {\"role\": \"user\", \"content\": user_message}\n",
    "                ],\n",
    "                model=LLM,\n",
    "            )\n",
    "\n",
    "            generated_text = response.choices[0].message.content\n",
    "\n",
    "        except Exception as e:\n",
    "            return f\"An error occurred with Azure OpenAI: {e}\"\n",
    "\n",
    "\n",
    "    elif provider == \"gemini\":\n",
    "        try:\n",
    "            model = genai.GenerativeModel(LLM)\n",
    "\n",
    "            final_prompt = f\"{system_prompt}\\n\\nUser's request: {user_message}\"\n",
    "\n",
    "            response = model.generate_content(final_prompt)\n",
    "\n",
    "            generated_text = \"\"\n",
    "            if response.parts:\n",
    "                generated_text = \"\".join(part.text for part in response.parts).strip()\n",
    "            elif hasattr(response, 'text') and response.text:\n",
    "                generated_text = response.text.strip()\n",
    "            else:\n",
    "                if response.prompt_feedback:\n",
    "                    block_reason = getattr(response.prompt_feedback, 'block_reason', 'Unknown reason')\n",
    "                    safety_ratings = getattr(response.prompt_feedback, 'safety_ratings', 'N/A')\n",
    "                    print(f\"Gemini Prompt feedback: Blocked - {block_reason}, Safety Ratings: {safety_ratings}\")\n",
    "                    return f\"Error: Gemini model did not generate text. Blocked due to: {block_reason}. Safety Ratings: {safety_ratings}\"\n",
    "                print(\"Gemini API returned no generated text and no prompt feedback.\")\n",
    "                return \"Error: Gemini API returned no generated text and no prompt feedback.\"\n",
    "\n",
    "        except Exception as e:\n",
    "            print(f\"An error occurred during Gemini API call or processing: {e}\\n{traceback.format_exc()}\")\n",
    "            if \"configure\" in str(e).lower() or \"api key\" in str(e).lower():\n",
    "                 return f\"Gemini API configuration error: {e}. Ensure genai.configure() is called with a valid API key.\"\n",
    "            return f\"Error with Gemini API request or processing: {e}\"\n",
    "\n",
    "\n",
    "    else:\n",
    "        return f\"Unsupported provider for this test setup: {provider}. Supported providers are 'ollama', 'azure_foundry', and 'gemini'.\"\n",
    "\n",
    "    if not isinstance(generated_text, str):\n",
    "         print(f\"Generated text is not a string (type: {type(generated_text)}). Cannot clean.\")\n",
    "         if generated_text is None:\n",
    "              return \"Could not retrieve generated text from provider response.\"\n",
    "         else:\n",
    "              return f\"Received unexpected output type from {provider}: {type(generated_text)}. Value: {generated_text}\"\n",
    "\n",
    "\n",
    "    cleaned_text = re.sub(r'```(sql|duckdb)?\\s*([\\s\\S]*?)\\s*```', r'\\2', generated_text, flags=re.IGNORECASE).strip()\n",
    "\n",
    "    if \"```\" in cleaned_text or \"SELECT \" in cleaned_text.upper() or \"WITH \" in cleaned_text.upper():\n",
    "         cleaned_text = cleaned_text.replace(\"```sql\", \"\").replace(\"```duckdb\", \"\").replace(\"```\", \"\").strip()\n",
    "\n",
    "\n",
    "    return cleaned_text"
   ]
  },
  {
   "cell_type": "code",
   "execution_count": null,
   "id": "23deb0fa",
   "metadata": {},
   "outputs": [],
   "source": [
    "def execute_sql_with_retry(query, test_model,provider, api_key, azure_endpoint, azure_api_version,max_attempts):\n",
    "    attempt = 1\n",
    "    current_query = query.strip()\n",
    "\n",
    "    while attempt <= max_attempts:\n",
    "        try:\n",
    "            # Execute the SQL query\n",
    "            result = con.sql(current_query).df()\n",
    "            # Return the DataFrame result and the number of attempts\n",
    "            return result, attempt\n",
    "        except Exception as e:\n",
    "            # Catch any exception during execution\n",
    "            error_message = str(e).lower()\n",
    "\n",
    "            # Check if the error is likely a syntax, parser, or binder error\n",
    "            if \"syntax\" not in error_message and \"parser\" not in error_message and \"binder\" not in error_message:\n",
    "                # If it's a non-syntax error, return the error message and attempts\n",
    "                return f\"Non-syntax error: {e}\", attempt\n",
    "\n",
    "            # If it's a syntax-like error, print attempt info\n",
    "            print(current_query)\n",
    "            print(f\"Attempt {attempt}/{max_attempts} failed with syntax error: {e}\")\n",
    "\n",
    "            # If max attempts reached, return the final error message and attempts\n",
    "            if attempt == max_attempts:\n",
    "                return f\"Max attempts reached. Last error: {e}\", attempt\n",
    "\n",
    "            # Prepare message for Gemini to fix the query\n",
    "            message = (\n",
    "                f\"The following SQL query has a syntax error: '{current_query}'.\\n\"\n",
    "                f\"Error message: {e}\\n\"\n",
    "                f\"Please provide the corrected SQL query. Return only the corrected query without explanation.\"\n",
    "            )\n",
    "\n",
    "            # Get corrected query from Gemini\n",
    "            corrected_query = get_ai_response(message, test_model,provider, api_key, azure_endpoint, azure_api_version)\n",
    "\n",
    "            # If Gemini returns an error, return that error message and attempts\n",
    "            if corrected_query.startswith(\"Error\"):\n",
    "                return f\"Failed to get corrected query : {corrected_query}\", attempt\n",
    "\n",
    "            #print(f\"Received corrected query\")\n",
    "            # Update current_query with the corrected one and increment attempt\n",
    "            current_query = corrected_query.strip()\n",
    "            attempt += 1\n",
    "    return \"Unexpected error or loop termination\", attempt\n",
    "\n"
   ]
  },
  {
   "cell_type": "code",
   "execution_count": null,
   "id": "f44c8a31",
   "metadata": {},
   "outputs": [],
   "source": [
    "def ask_question(questions, test_model,provider,api_key=None, azure_endpoint=None, azure_api_version=None):\n",
    "    results_data = [] \n",
    "    for i, x in enumerate(questions):\n",
    "        print(f\"Question {i+1}: {x}\") # Keep or remove print as needed\n",
    "        start_time = time.time()\n",
    "        sql_query_or_error = get_ai_response(x, test_model, provider, api_key, azure_endpoint, azure_api_version)\n",
    "        print(sql_query_or_error) # Keep or remove print as needed\n",
    "        query_result_data_json = [] # Initialize as an empty list for JSON result\n",
    "        attempts_count = None\n",
    "        error_details = None # Initialize error_details\n",
    "        if sql_query_or_error is None or sql_query_or_error.startswith(\"Error\"):\n",
    "            # If get_ai_response returned an error or None, store the error string\n",
    "            error_message = sql_query_or_error if sql_query_or_error is not None else \"AI response was None\"\n",
    "            # print(f\"Failed to get query from AI: {error_message}\") # Keep or remove print\n",
    "            # print(\"Execution: SKIPPED (AI error)\") # Keep or remove print\n",
    "            error_details = f\"AI Error: {error_message}\" # Store error details\n",
    "            # query_result_data_json remains empty []\n",
    "            result_row_count = 0 # Result count is 0 on error\n",
    "        else:\n",
    "            # Attempt to execute the SQL query\n",
    "            # Ensure execute_sql_with_retry returns a DataFrame on success or a string error\n",
    "            # Pass the test_model to execute_sql_with_retry as it might need it\n",
    "            result_from_execution, attempts_count = execute_sql_with_retry(sql_query_or_error, test_model,provider,api_key, azure_endpoint, azure_api_version, max_attempts=3)\n",
    "\n",
    "            display(result_from_execution)\n",
    "            is_successful = isinstance(result_from_execution, pd.DataFrame)\n",
    "\n",
    "            if is_successful:\n",
    "                print(\"Execution: SUCCESS\") # Keep or remove print\n",
    "                query_result_data_json = result_from_execution.to_dict('records')\n",
    "                error_details = None # No error details on success\n",
    "                result_row_count = len(result_from_execution) # Calculate row count\n",
    "            else:\n",
    "                print(\"Execution: FAILED\") # Keep or remove print\n",
    "                #query_result_data_json remains empty []\n",
    "                error_details = f\"Execution Error: {result_from_execution}\" # Store error details\n",
    "                result_row_count = 0 # Result count is 0 on failure\n",
    "\n",
    "\n",
    "        end_time = time.time()\n",
    "        duration = round(end_time - start_time, 2)\n",
    "        print(f\"\\nExecution Time: {duration:.2f} seconds\") # Keep or remove print\n",
    "        print(f\" ############################### \") # Keep or remove print\n",
    "        results_data.append({\n",
    "            \"model\" : test_model,\n",
    "            \"timestamp\": timestamp,\n",
    "            \"nbr\": i + 1,\n",
    "            \"question\": x,\n",
    "            \"duration_s\": duration, # Changed key name slightly for JSON convention\n",
    "            \"sql_query\": sql_query_or_error, # Store the generated query string (could be AI error)\n",
    "            \"attempts\": attempts_count,\n",
    "            \"result\": query_result_data_json, # This is now a list of dictionaries\n",
    "            \"result_count\": result_row_count, # Use the calculated row count\n",
    "            \"error_details\": error_details # Store error details\n",
    "        })\n",
    "\n",
    "    os.makedirs(output_dir, exist_ok=True)\n",
    "    sanitized_model = re.sub(r'[\\\\/*?:\"<>|]', '_', test_model)\n",
    "    output_filename = f\"{timestamp}_{sanitized_model}.json\"\n",
    "    output_path = os.path.join(output_dir, output_filename)\n",
    "    try:\n",
    "        with open(output_path, 'w', encoding='utf-8') as f:\n",
    "            json.dump(results_data, f, indent=4)\n",
    "        return f\"Successfully processed {len(questions)} questions. Results saved to {output_path}\"\n",
    "    except IOError as e:\n",
    "        return f\"Error saving results to {output_path}: {e}\"\n",
    "    except Exception as e:\n",
    "        return f\"An unexpected error occurred during file saving: {e}\""
   ]
  },
  {
   "cell_type": "code",
   "execution_count": null,
   "id": "601e101a",
   "metadata": {},
   "outputs": [],
   "source": [
    "try:\n",
    "    response = requests.get(questions_url)\n",
    "    response.raise_for_status()  # Raise an exception for HTTP errors (4xx or 5xx)\n",
    "    questions = json.loads(response.text)\n",
    "\n",
    "    print(\"Successfully retrieved questions:\")\n",
    "except requests.exceptions.RequestException as e:\n",
    "    print(f\"Error retrieving file from GitHub: {e}\")\n",
    "except json.JSONDecodeError as e:\n",
    "    print(f\"Error decoding JSON: {e}\")"
   ]
  },
  {
   "cell_type": "code",
   "execution_count": null,
   "id": "ef5b46e0",
   "metadata": {},
   "outputs": [],
   "source": [
    "%%time\n",
    "ask_question(questions,\"gpt-4o\",\"azure_foundry\",os.getenv(\"LLM_API_KEY\"), os.getenv(\"llm_endpoint\"),\"2025-01-01-preview\" )"
   ]
  },
  {
   "cell_type": "code",
   "execution_count": null,
   "id": "f840ac33",
   "metadata": {},
   "outputs": [],
   "source": [
    "%%time\n",
    "genai.configure(api_key= os.getenv(\"G_API_KEY\"))\n",
    "ask_question(questions,\"gemini-2.5-flash-preview-04-17\",\"gemini\")"
   ]
  },
  {
   "cell_type": "code",
   "execution_count": null,
   "id": "00a73d52",
   "metadata": {},
   "outputs": [],
   "source": [
    "%%time\n",
    "ask_question(questions,'qwen3:4b',\"ollama\")"
   ]
  },
  {
   "cell_type": "markdown",
   "id": "7cc1e144",
   "metadata": {},
   "source": [
    "# Check Results"
   ]
  },
  {
   "cell_type": "code",
   "execution_count": 3,
   "id": "ebc0a9b3",
   "metadata": {},
   "outputs": [
    {
     "name": "stdout",
     "output_type": "stream",
     "text": [
      "Error exporting to Excel: IO Error: Could not move file: The process cannot access the file because it is being used by another process.\n",
      "\n",
      "close the excel file or tey again.\n"
     ]
    }
   ],
   "source": [
    "duckdb.sql(f\"\"\" from '{output_dir}/*.json' order by nbr,model \"\"\").to_view(\"results\")\n",
    "try:\n",
    " duckdb.sql(f\"\"\" load excel ;copy results to '{output_dir}/test.xlsx' (format 'xlsx', header 'true', overwrite)  \"\"\")\n",
    "except Exception as e:\n",
    "    print(f\"Error exporting to Excel: {e}\")\n",
    "    print(\"close the excel file or tey again.\")"
   ]
  },
  {
   "cell_type": "code",
   "execution_count": 4,
   "id": "d2e2bb4d",
   "metadata": {},
   "outputs": [
    {
     "data": {
      "text/plain": [
       "┌──────────┬─────────────────┬───────┬───────────────────────────────────────────────────────────────────────────────────────────────────────────────────────────────────────────────────────────────────────────────────────────────────────────────────────────────────────────────────────────────────────────┬────────────┬──────────────────────────────────────────────────────────────────────────────────────────────────────────────────────────────────────────────────────────────────────────────────────────────────────────────────────────────────────────────────────────────────────────────────────────────────────────────────────────────────────────────────────────────────────────────────────────────────────────────────────────────────────────────────────────────────────────────────────────────────────────────────────────────────────────────────────────────────────────────────────────────────────────────────────────────────────────────────────────────────────────────────────────────────────────────────────────────────────────────────────────────────────────────────────────────────────────────────────────────────────────────────────────────────────────────────────────────────────────────────────────────────────────────────────────────────────────────────────────────────────────────────────────────────────────────────────────────────────────────────────────────────────────────────────────────────────────────────────────────────────────────────────────────────────────────────────────────────────────────────────────────────────────────────────────────────────────────────────────────────────────────────────────────────────────────────────────────────────────────────────────────────────────────────────┬──────────┬──────────────────────┬──────────────┬──────────────────────────────────────────────────────────────────────────────────────────────────────────────────────────────────────────────────────────────┐\n",
       "│  model   │    timestamp    │  nbr  │                                                                                                                                 question                                                                                                                                  │ duration_s │                                                                                                                                                                                                                                                                                                                                                                                                                                                                                                                                                                                                                                                                                                                      sql_query                                                                                                                                                                                                                                                                                                                                                                                                                                                                                                                                                                                                                                                                                                                       │ attempts │        result        │ result_count │                                                                        error_details                                                                         │\n",
       "│ varchar  │     varchar     │ int64 │                                                                                                                                  varchar                                                                                                                                  │   double   │                                                                                                                                                                                                                                                                                                                                                                                                                                                                                                                                                                                                                                                                                                                       varchar                                                                                                                                                                                                                                                                                                                                                                                                                                                                                                                                                                                                                                                                                                                        │  int64   │ map(varchar, json)[] │    int64     │                                                                           varchar                                                                            │\n",
       "├──────────┼─────────────────┼───────┼───────────────────────────────────────────────────────────────────────────────────────────────────────────────────────────────────────────────────────────────────────────────────────────────────────────────────────────────────────────────────────────────────────────┼────────────┼──────────────────────────────────────────────────────────────────────────────────────────────────────────────────────────────────────────────────────────────────────────────────────────────────────────────────────────────────────────────────────────────────────────────────────────────────────────────────────────────────────────────────────────────────────────────────────────────────────────────────────────────────────────────────────────────────────────────────────────────────────────────────────────────────────────────────────────────────────────────────────────────────────────────────────────────────────────────────────────────────────────────────────────────────────────────────────────────────────────────────────────────────────────────────────────────────────────────────────────────────────────────────────────────────────────────────────────────────────────────────────────────────────────────────────────────────────────────────────────────────────────────────────────────────────────────────────────────────────────────────────────────────────────────────────────────────────────────────────────────────────────────────────────────────────────────────────────────────────────────────────────────────────────────────────────────────────────────────────────────────────────────────────────────────────────────────────────────────────────────────────────────────────────────────────┼──────────┼──────────────────────┼──────────────┼──────────────────────────────────────────────────────────────────────────────────────────────────────────────────────────────────────────────────────────────┤\n",
       "│ qwen3:4b │ 20250509_140034 │    16 │ For each store, what was the percentage change in net sales between two consecutive recent years (e.g., 2001 and 2002), ordered alphabetically by store name.                                                                                                             │      69.92 │ SELECT\\n  st.s_store_name,\\n  (ss2.total_sales - ss1.total_sales) * 100.0 / ss1.total_sales AS percentage_change\\nFROM\\n  (SELECT\\n    st.s_store_name,\\n    SUM(ss.ss_sales_price * ss.ss_quantity) AS total_sales\\n  FROM\\n    store_sales ss\\n  INNER JOIN\\n    store st ON ss.ss_store_sk = st.s_store_sk\\n  GROUP BY\\n    st.s_store_name) ss\\nINNER JOIN\\n  (SELECT\\n    st.s_store_name,\\n    SUM(ss.ss_sales_price * ss.ss_quantity) AS total_sales\\n  FROM\\n    store_sales ss\\n  INNER JOIN\\n    store st ON ss.ss_store_sk = st.s_store_sk\\n  WHERE\\n    ss_sold_date_sk = (SELECT MAX(d_date_sk) FROM date_dim WHERE d_year = (SELECT d_year - 1 FROM date_dim WHERE d_date_sk = (SELECT MAX(d_date_sk) FROM date_dim))))\\n  GROUP BY\\n    st.s_store_name) ss1\\nON ss.s_store_name = ss1.s_store_name\\nINNER JOIN\\n  (SELECT\\n    st.s_store_name,\\n    SUM(ss.ss_sales_price * ss.ss_quantity) AS total_sales\\n  FROM\\n    store_sales ss\\n  INNER JOIN\\n    store st ON ss.ss_store_sk = st.s_store_sk\\n  WHERE\\n    ss_sold_date_sk = (SELECT MAX(d_date_sk) FROM date_dim WHERE d_year = (SELECT d_year FROM date_dim WHERE d_date_sk = (SELECT MAX(d_date_sk) FROM date_dim))))\\n  GROUP BY\\n    st.s_store_name) ss2\\nON ss.s_store_name = ss2.s_store_name\\nORDER BY\\n  st.s_store_name;                                                                                                                                         │        3 │ []                   │            0 │ Execution Error: Max attempts reached. Last error: Binder Error: Referenced table \"st\" not found!\\nCandidate tables: \"ss\", \"ss1\", \"ss2\"                      │\n",
       "│ qwen3:4b │ 20250509_140034 │    18 │ Which item brand has shown the largest decrease in its return rate when comparing the average rate of 2001 to 2002, specifically for stores located in the 'TN' state? (Order by the decrease in return rate descending, and then by brand name alphabetically for ties). │      80.15 │ SELECT\\n  i.i_brand,\\n  ( (sr2002.total_returns / NULLIF(sr2002.total_sales, 0)) * 100 ) - ( (sr2001.total_returns / NULLIF(sr2001.total_sales, 0)) * 100 ) AS return_rate_decrease\\nFROM\\n  (SELECT\\n    SUM(sr.sr_return_amt) AS total_returns,\\n    SUM(ss.ss_sales_price * ss.ss_quantity) AS total_sales\\n   FROM store_returns sr\\n   INNER JOIN store ss ON sr.sr_store_sk = ss.s_store_sk\\n   INNER JOIN date_dim d ON sr.sr_returned_date_sk = d.d_date_sk\\n   WHERE d.d_year = 2001\\n   AND ss.s_state = 'TN') sr2001,\\n  (SELECT\\n    SUM(sr.sr_return_amt) AS total_returns,\\n    SUM(ss.ss_sales_price * ss.ss_quantity) AS total_sales\\n   FROM store_returns sr\\n   INNER JOIN store ss ON sr.sr_store_sk = ss.s_store_sk\\n   INNER JOIN date_dim d ON sr.sr_returned_date_sk = d.d_date_sk\\n   WHERE d.d_year = 2002\\n   AND ss.s_state = 'TN') sr2002,\\n  item i\\nWHERE\\n  i.i_item_sk = (SELECT ss.i_item_sk FROM store_sales ss WHERE ss.ss_store_sk = sr2001.s_store_sk AND ss.ss_item_sk = i.i_item_sk)\\n  OR\\n  i.i_item_sk = (SELECT ss.i_item_sk FROM store_sales ss WHERE ss.ss_store_sk = sr2002.s_store_sk AND ss.ss_item_sk = i.i_item_sk)\\nORDER BY\\n  return_rate_decrease DESC,\\n  i.i_brand;                                                                                                                                                                                                                         │        3 │ []                   │            0 │ Execution Error: Max attempts reached. Last error: Binder Error: Table \"ss\" does not have a column named \"ss_sales_price\"\\n\\nCandidate bindings: : \"s_state\" │\n",
       "│ gpt-4o   │ 20250509_140034 │    20 │ show all stores net sales , average net sales and percentage of net sales compared to average net sales for each store, ordered by percentage of net sales descending.                                                                                                    │       16.3 │ -- show all stores net sales, average net sales, and percentage of net sales compared to average net sales for each store, ordered by percentage of net sales descending\\nWITH store_sales_agg AS (\\n    SELECT\\n        st.s_store_name,\\n        SUM(ss.ss_sales_price * ss.ss_quantity) AS total_sales\\n    FROM store_sales AS ss\\n    INNER JOIN store AS st ON ss.ss_store_sk = st.s_store_sk\\n    GROUP BY st.s_store_name\\n), store_returns_agg AS (\\n    SELECT\\n        st.s_store_name,\\n        SUM(sr.sr_return_amt) AS total_returns\\n    FROM store_returns AS sr\\n    INNER JOIN store AS st ON sr.s_store_sk = st.s_store_sk\\n    GROUP BY st.s_store_name\\n), net_sales_calc AS (\\n    SELECT\\n        COALESCE(ss.s_store_name, sr.s_store_name) AS store_name,\\n        COALESCE(ss.total_sales, 0) - COALESCE(sr.total_returns, 0) AS net_sales\\n    FROM store_sales_agg AS ss\\n    FULL OUTER JOIN store_returns_agg AS sr ON ss.s_store_name = sr.s_store_name\\n), average_net_sales_calc AS (\\n    SELECT\\n        AVG(net_sales) AS average_net_sales\\n    FROM net_sales_calc\\n)\\nSELECT\\n    ns.store_name,\\n    ns.net_sales,\\n    ROUND(ans.average_net_sales, 2) AS average_net_sales,\\n    ROUND((ns.net_sales / NULLIF(ans.average_net_sales, 0)) * 100, 2) AS percentage_of_average_net_sales\\nFROM net_sales_calc AS ns\\nCROSS JOIN average_net_sales_calc AS ans\\nORDER BY percentage_of_average_net_sales DESC; │        3 │ []                   │            0 │ Execution Error: Max attempts reached. Last error: Binder Error: Referenced table \"sr\" not found!\\nCandidate tables: \"store_sales_agg\"                       │\n",
       "│ qwen3:4b │ 20250509_140034 │    20 │ show all stores net sales , average net sales and percentage of net sales compared to average net sales for each store, ordered by percentage of net sales descending.                                                                                                    │      57.18 │ SELECT\\n    st.s_store_name AS store_name,\\n    COALESCE(ss.total_sales, 0) - COALESCE(sr.total_returns, 0) AS net_sales,\\n    AVG(COALESCE(ss.total_sales, 0) - COALESCE(sr.total_returns, 0)) OVER() AS average_net_sales,\\n    (COALESCE(ss.total_sales, 0) - COALESCE(sr.total_returns, 0)) / NULLIF(AVG(COALESCE(ss.total_sales, 0) - COALESCE(sr.total_returns, 0)) OVER(), 0) * 100 AS percentage_of_net_sales\\nFROM\\n    (SELECT\\n        st.s_store_name,\\n        SUM(ss.ss_sales_price * ss.ss_quantity) AS total_sales\\n     FROM store_sales AS ss\\n     INNER JOIN store AS st ON ss.ss_store_sk = st.s_store_sk\\n     GROUP BY st.s_store_name) AS ss\\nFULL OUTER JOIN\\n    (SELECT\\n        st.s_store_name,\\n        SUM(sr.sr_return_amt) AS total_returns\\n     FROM store_returns AS sr\\n     INNER JOIN store AS st ON sr.sr_store_sk = st.s_store_sk\\n     GROUP BY st.s_store_name) AS sr\\nON ss.s_store_name = sr.s_store_name\\nORDER BY\\n    percentage_of_net_sales DESC;                                                                                                                                                                                                                                                                                                                                                                                                                                                  │        3 │ []                   │            0 │ Execution Error: Max attempts reached. Last error: Binder Error: Referenced table \"st\" not found!\\nCandidate tables: \"ss\", \"sr\"                              │\n",
       "└──────────┴─────────────────┴───────┴───────────────────────────────────────────────────────────────────────────────────────────────────────────────────────────────────────────────────────────────────────────────────────────────────────────────────────────────────────────────────────────────────────────┴────────────┴──────────────────────────────────────────────────────────────────────────────────────────────────────────────────────────────────────────────────────────────────────────────────────────────────────────────────────────────────────────────────────────────────────────────────────────────────────────────────────────────────────────────────────────────────────────────────────────────────────────────────────────────────────────────────────────────────────────────────────────────────────────────────────────────────────────────────────────────────────────────────────────────────────────────────────────────────────────────────────────────────────────────────────────────────────────────────────────────────────────────────────────────────────────────────────────────────────────────────────────────────────────────────────────────────────────────────────────────────────────────────────────────────────────────────────────────────────────────────────────────────────────────────────────────────────────────────────────────────────────────────────────────────────────────────────────────────────────────────────────────────────────────────────────────────────────────────────────────────────────────────────────────────────────────────────────────────────────────────────────────────────────────────────────────────────────────────────────────────────────────────────────────────────────────────────┴──────────┴──────────────────────┴──────────────┴──────────────────────────────────────────────────────────────────────────────────────────────────────────────────────────────────────────────────────────────┘"
      ]
     },
     "execution_count": 4,
     "metadata": {},
     "output_type": "execute_result"
    }
   ],
   "source": [
    "# Queries with errors\n",
    "duckdb.sql(\"\"\" from results where error_details is not null\"\"\")"
   ]
  },
  {
   "cell_type": "code",
   "execution_count": 5,
   "id": "0b5c992a",
   "metadata": {},
   "outputs": [
    {
     "name": "stdout",
     "output_type": "stream",
     "text": [
      "┌───────┐\n",
      "│  nbr  │\n",
      "│ int64 │\n",
      "├───────┤\n",
      "│     5 │\n",
      "│     7 │\n",
      "│     9 │\n",
      "│    12 │\n",
      "│    13 │\n",
      "│    14 │\n",
      "│    15 │\n",
      "│    16 │\n",
      "│    17 │\n",
      "│    18 │\n",
      "│    19 │\n",
      "│    20 │\n",
      "└───────┘\n",
      "\n"
     ]
    }
   ],
   "source": [
    "# queries where the number of columns resturened by each model is not the same or the number of rows is not the same\n",
    "duckdb.sql(f\"\"\" select nbr from results group by all having count(distinct(cardinality(result[1]))) > 1 or count(distinct(result_count )) > 1 order by nbr \"\"\").show(max_width=250)"
   ]
  },
  {
   "cell_type": "code",
   "execution_count": 6,
   "id": "1c2760a0",
   "metadata": {},
   "outputs": [
    {
     "name": "stdout",
     "output_type": "stream",
     "text": [
      "┌───────┬─────────────────────────────────────────────────────────┬────────────────────────────────┬────────┬──────────┐\n",
      "│  nbr  │                        question                         │ gemini-2.5-flash-preview-04-17 │ gpt-4o │ qwen3:4b │\n",
      "│ int64 │                         varchar                         │             int64              │ int64  │  int64   │\n",
      "├───────┼─────────────────────────────────────────────────────────┼────────────────────────────────┼────────┼──────────┤\n",
      "│     1 │ What is the overall total sales revenue?                │                              1 │      1 │        1 │\n",
      "│     2 │ What is the total number of items sold across all tra…  │                              1 │      1 │        1 │\n",
      "│     3 │ What is the total monetary value of all returned items? │                              1 │      1 │        1 │\n",
      "│     4 │ List the names of all stores, order by store name.      │                             12 │     12 │       12 │\n",
      "│     5 │ What are the different item categories available? Ord…  │                             11 │     11 │    18000 │\n",
      "│     6 │ Show total sales revenue for each year, ordered chron…  │                              6 │      6 │        6 │\n",
      "│     7 │ Which store generated the most total sales revenue? (…  │                              1 │      1 │        6 │\n",
      "│     8 │ What is the total quantity of items sold, broken down…  │                            713 │    713 │      713 │\n",
      "│     9 │ Compare total sales from preferred customers versus n…  │                              3 │      3 │        2 │\n",
      "│    10 │ What is the total return amount for each city where s…  │                              2 │      2 │        2 │\n",
      "│    11 │ What is the net sales for each store name, order by n…  │                              6 │      6 │        6 │\n",
      "│    12 │ Calculate the return rate for each item category, ord…  │                             12 │     12 │       12 │\n",
      "│    13 │ What is the monthly trend of net sales during the yea…  │                             12 │     12 │      365 │\n",
      "│    14 │ Which customer birth country exhibits the highest ave…  │                            211 │    213 │      212 │\n",
      "│    15 │ List all item product names that have a return rate g…  │                          17912 │   8861 │        0 │\n",
      "│    16 │ For each store, what was the percentage change in net…  │                              6 │     30 │        0 │\n",
      "│    17 │ What is the return rate for items sold on weekends ve…  │                              6 │      6 │       12 │\n",
      "│    18 │ Which item brand has shown the largest decrease in it…  │                            167 │    687 │        0 │\n",
      "│    19 │ For each item class, compare the average net sales va…  │                            100 │    300 │      100 │\n",
      "│    20 │ show all stores net sales , average net sales and per…  │                              6 │      0 │        0 │\n",
      "├───────┴─────────────────────────────────────────────────────────┴────────────────────────────────┴────────┴──────────┤\n",
      "│ 20 rows                                                                                                    5 columns │\n",
      "└──────────────────────────────────────────────────────────────────────────────────────────────────────────────────────┘\n",
      "\n"
     ]
    }
   ],
   "source": [
    "# check number of rows returned by each model\n",
    "duckdb.sql(f\"\"\" pivot( select nbr,question,model,result_count from results) on model using min(result_count ) order by nbr\"\"\").show(max_width=120)"
   ]
  },
  {
   "cell_type": "code",
   "execution_count": 7,
   "id": "ef6e9960",
   "metadata": {},
   "outputs": [
    {
     "name": "stdout",
     "output_type": "stream",
     "text": [
      "┌───────┬────────────────────────────────────────────────────────────────────────────────────────┬───────────────────────────────────────────────────────────────────────────┬───────────────────────────────────────────────────────────────────────────┐\n",
      "│  nbr  │                             gemini-2.5-flash-preview-04-17                             │                                  gpt-4o                                   │                                 qwen3:4b                                  │\n",
      "│ int64 │                                       varchar[]                                        │                                 varchar[]                                 │                                 varchar[]                                 │\n",
      "├───────┼────────────────────────────────────────────────────────────────────────────────────────┼───────────────────────────────────────────────────────────────────────────┼───────────────────────────────────────────────────────────────────────────┤\n",
      "│     1 │ [total_sales]                                                                          │ [total_sales_revenue]                                                     │ [total_sales]                                                             │\n",
      "│     2 │ [total_quantity]                                                                       │ [total_quantity]                                                          │ [total_quantity]                                                          │\n",
      "│     3 │ [total_returns]                                                                        │ [total_returns]                                                           │ [total_return_value]                                                      │\n",
      "│     4 │ [s_store_name]                                                                         │ [store_name]                                                              │ [s_store_name]                                                            │\n",
      "│     5 │ [i_category]                                                                           │ [i_category]                                                              │ [i_category]                                                              │\n",
      "│     6 │ [d_year, total_sales]                                                                  │ [year, total_sales]                                                       │ [year, total_sales_revenue]                                               │\n",
      "│     7 │ [s_store_name, total_sales]                                                            │ [store_name, total_sales_revenue]                                         │ [s_store_name, total_sales]                                               │\n",
      "│     8 │ [i_brand, total_quantity]                                                              │ [item_brand, total_quantity_sold]                                         │ [i_brand, total_quantity]                                                 │\n",
      "│     9 │ [preferred_customer_flag, total_sales]                                                 │ [preferred_customer, total_sales]                                         │ [customer_type, total_sales]                                              │\n",
      "│    10 │ [s_city, total_returns]                                                                │ [city, total_return_amount]                                               │ [city, total_return_amount]                                               │\n",
      "│    11 │ [store_name, net_sales]                                                                │ [store_name, net_sales]                                                   │ [store_name, net_sales]                                                   │\n",
      "│    12 │ [item_category, return_rate]                                                           │ [item_category, total_returns, total_sales, return_rate]                  │ [i_category, return_rate]                                                 │\n",
      "│    13 │ [month, net_sales]                                                                     │ [month, net_sales]                                                        │ [month, net_sales]                                                        │\n",
      "│    14 │ [customer_birth_country, return_rate]                                                  │ [customer_birth_country, average_return_rate]                             │ [c_birth_country, avg_return_rate]                                        │\n",
      "│    15 │ [i_product_name, total_sales, total_returns, return_rate]                              │ [product_name, total_sales]                                               │ NULL                                                                      │\n",
      "│    16 │ [store_name, current_year, previous_year, current_year_net_sales, previous_year_net_…  │ [store_name, year1, year2, percentage_change]                             │ NULL                                                                      │\n",
      "│    17 │ [customer_age_group, day_type, total_sales, total_returns, return_rate]                │ [customer_age_group, is_weekend, total_sales, total_returns, return_rate] │ [customer_age_group, total_sales, total_returns, return_rate, is_weekend] │\n",
      "│    18 │ [i_brand, return_rate_decrease]                                                        │ [brand, return_rate_2001, return_rate_2002, decrease_in_return_rate]      │ NULL                                                                      │\n",
      "│    19 │ [i_class, avg_net_sales_per_transaction_preferred, avg_net_sales_per_transaction_non…  │ [item_class, preferred_customer_flag, avg_net_sales]                      │ [i_class, avg_net_sales_preferred, avg_net_sales_non_preferred]           │\n",
      "│    20 │ [store_name, store_net_sales, average_net_sales, percentage_of_average_net_sales]      │ NULL                                                                      │ NULL                                                                      │\n",
      "├───────┴────────────────────────────────────────────────────────────────────────────────────────┴───────────────────────────────────────────────────────────────────────────┴───────────────────────────────────────────────────────────────────────────┤\n",
      "│ 20 rows                                                                                                                                                                                                                                      4 columns │\n",
      "└────────────────────────────────────────────────────────────────────────────────────────────────────────────────────────────────────────────────────────────────────────────────────────────────────────────────────────────────────────────────────────┘\n",
      "\n"
     ]
    }
   ],
   "source": [
    "# check number of columns returned by each model\n",
    "duckdb.sql(f\"\"\" pivot( select nbr,model,result from results) on model using min(MAP_KEYS(result[1]) ) order by nbr\"\"\").show(max_width=250)"
   ]
  },
  {
   "cell_type": "markdown",
   "id": "3773abc6",
   "metadata": {},
   "source": [
    "Manual check for smilar results ( same rows and columns)"
   ]
  },
  {
   "cell_type": "code",
   "execution_count": 8,
   "id": "d1bf29e4",
   "metadata": {},
   "outputs": [
    {
     "name": "stdout",
     "output_type": "stream",
     "text": [
      "┌───────┬──────────────────────┬──────────────────────┬──────────────────────────────────────────────────────────────────────────────────────────────────────────────────────────────────────────────────────────────────────────────────────────────────┐\n",
      "│  nbr  │ gemini-2.5-flash-p…  │        gpt-4o        │                                                                                             qwen3:4b                                                                                             │\n",
      "│ int64 │ map(varchar, json)[] │ map(varchar, json)[] │                                                                                       map(varchar, json)[]                                                                                       │\n",
      "├───────┼──────────────────────┼──────────────────────┼──────────────────────────────────────────────────────────────────────────────────────────────────────────────────────────────────────────────────────────────────────────────────────────────────┤\n",
      "│     1 │ [{total_sales=5138…  │ [{total_sales_reve…  │ [{total_sales=5138665812.53}]                                                                                                                                                                    │\n",
      "│     2 │ [{total_quantity=1…  │ [{total_quantity=1…  │ [{total_quantity=138963631.0}]                                                                                                                                                                   │\n",
      "│     3 │ [{total_returns=27…  │ [{total_returns=27…  │ [{total_return_value=270824609.25}]                                                                                                                                                              │\n",
      "│     4 │ [{s_store_name=\"ab…  │ [{store_name=\"able…  │ [{s_store_name=\"able\"}, {s_store_name=\"able\"}, {s_store_name=\"anti\"}, {s_store_name=\"ation\"}, {s_store_name=\"bar\"}, {s_store_name=\"cally\"}, {s_store_name=\"eing\"}, {s_store_name=\"eing\"}, {s_s…  │\n",
      "│     6 │ [{d_year=1998, tot…  │ [{year=1998, total…  │ [{year=1998, total_sales_revenue=1019051668.9}, {year=1999, total_sales_revenue=1001288731.68}, {year=2000, total_sales_revenue=1024199559.82}, {year=2001, total_sales_revenue=1006887594.97}…  │\n",
      "│     8 │ [{i_brand=\"importo…  │ [{item_brand=\"impo…  │ [{i_brand=\"importoedu pack #2\", total_quantity=2348242.0}, {i_brand=\"edu packscholar #2\", total_quantity=2295358.0}, {i_brand=\"importoscholar #2\", total_quantity=2259448.0}, {i_brand=\"export…  │\n",
      "│    10 │ [{s_city=\"Fairview…  │ [{city=\"Fairview\",…  │ [{city=\"Fairview\", total_return_amount=44308839.18}, {city=\"Midway\", total_return_amount=221569284.52}]                                                                                          │\n",
      "│    11 │ [{store_name=\"ough…  │ [{store_name=\"ough…  │ [{store_name=\"ought\", net_sales=799255127.85}, {store_name=\"ation\", net_sales=800752820.38}, {store_name=\"able\", net_sales=801418584.81}, {store_name=\"ese\", net_sales=802346690.31}, {store_n…  │\n",
      "└───────┴──────────────────────┴──────────────────────┴──────────────────────────────────────────────────────────────────────────────────────────────────────────────────────────────────────────────────────────────────────────────────────────────────┘\n",
      "\n"
     ]
    }
   ],
   "source": [
    "manual = duckdb.sql(\"\"\"\n",
    "   with   zzzzz AS(\n",
    "    SELECT \n",
    "        nbr, \n",
    "        model, \n",
    "        result\n",
    "    FROM results \n",
    "    WHERE nbr not in ( select nbr from results group by all having count(distinct(cardinality(result[1]))) > 1 or count(distinct(result_count )) > 1 order by nbr))\n",
    "pivot(from zzzzz ) on model using min(result) order by nbr\n",
    "\"\"\")\n",
    "manual.show(max_width=250)\n",
    "try:\n",
    " duckdb.sql(f\"\"\" load excel ;copy manual to '{output_dir}/check.xlsx' (format 'xlsx', header 'true', overwrite)  \"\"\")\n",
    "except Exception as e:\n",
    "    print(f\"Error exporting to Excel: {e}\")\n",
    "    print(\"close the excel file or tey again.\")"
   ]
  }
 ],
 "metadata": {
  "kernelspec": {
   "display_name": "Python 3",
   "language": "python",
   "name": "python3"
  },
  "language_info": {
   "codemirror_mode": {
    "name": "ipython",
    "version": 3
   },
   "file_extension": ".py",
   "mimetype": "text/x-python",
   "name": "python",
   "nbconvert_exporter": "python",
   "pygments_lexer": "ipython3",
   "version": "3.11.9"
  }
 },
 "nbformat": 4,
 "nbformat_minor": 5
}
